{
 "cells": [
  {
   "cell_type": "markdown",
   "metadata": {
    "tags": [
     "skip"
    ]
   },
   "source": [
    "<br />\n",
    "<p align=\"center\">\n",
    "  <img src=\"../images/dtlogo.png\" alt=\"Logo\" width=\"111\" height=\"100\">\n",
    "\n",
    "  <h1 align=\"center\">Training your Model</h1>\n",
    "</p> \n",
    "\n",
    "\n",
    "\n"
   ]
  },
  {
   "cell_type": "markdown",
   "metadata": {},
   "source": [
    "# Training\n",
    "\n",
    "You should use our [Google Colab notebook](https://colab.research.google.com/drive/1FoE6NuuQRAMkJpf4EEopZBtpK8C7lqx1). \n",
    "\n",
    "## Upload your dataset\n",
    "\n",
    "TODO:step by step\n",
    "\n",
    "You will also need to upload your dataset to your Google Drive.  \n",
    "\n",
    "## Running the notebook\n",
    "\n",
    "TODO:step by step\n",
    "Don't forget to change the runtime type to GPU-accelerated!\n",
    "\n",
    "\n",
    "For reference, on google colab, training took us about 1h.\n",
    "\n"
   ]
  },
  {
   "cell_type": "markdown",
   "metadata": {},
   "source": [
    "## Optional (Not officially supported) local training\n",
    "\n",
    "Training the model requires a GPU. If you have one, you can simply `git clone https://github.com/Velythyl/yolov5.git -b dt-obj-det` and call `python3 train.py --img 416 --batch 16 --epochs 100 --data duckietown.yaml --weights yolov5s.pt`. For reference, on a gtx1080ti and a ryzen 3700x, training took us about 20 minutes."
   ]
  }
 ],
 "metadata": {
  "kernelspec": {
   "display_name": "Python 3",
   "language": "python",
   "name": "python3"
  },
  "language_info": {
   "codemirror_mode": {
    "name": "ipython",
    "version": 3
   },
   "file_extension": ".py",
   "mimetype": "text/x-python",
   "name": "python",
   "nbconvert_exporter": "python",
   "pygments_lexer": "ipython3",
   "version": "3.8.5"
  }
 },
 "nbformat": 4,
 "nbformat_minor": 4
}
