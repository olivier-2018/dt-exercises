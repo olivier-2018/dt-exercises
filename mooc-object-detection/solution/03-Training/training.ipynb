{
 "cells": [
  {
   "cell_type": "markdown",
   "metadata": {
    "tags": [
     "skip"
    ]
   },
   "source": [
    "<br />\n",
    "<p align=\"center\">\n",
    "  <img src=\"../images/dtlogo.png\" alt=\"Logo\" width=\"111\" height=\"100\">\n",
    "\n",
    "  <h1 align=\"center\">Training your Model</h1>\n",
    "</p> \n",
    "\n",
    "\n",
    "\n"
   ]
  },
  {
   "cell_type": "markdown",
   "metadata": {},
   "source": [
    "# Training\n",
    "\n",
    "You should use our [Google Colab notebook](https://colab.research.google.com/drive/1FoE6NuuQRAMkJpf4EEopZBtpK8C7lqx1). \n",
    "\n",
    "## Upload your dataset\n",
    "\n",
    "To use your images on Google Colab, we will need your dataset. You can upload it by going on your Google Drive\n",
    "and dragging the dataset's root directory into it. You should name the resulting folder \"duckietown_dataset\".\n",
    "\n",
    "## Running the notebook\n",
    "\n",
    "Don't forget to change the runtime type to GPU-accelerated!\n",
    "\n",
    "Click on Runtime > Change Runtime Type.\n",
    "\n",
    "![image of a bounding box](../images/colab1.png)\n",
    "\n",
    "Then, in the drop-down menu, select \"GPU\"\n",
    "\n",
    "![image of a bounding box](../images/colab2.png)\n",
    "\n",
    "For reference, on google colab, training took us about 1h.\n"
   ]
  },
  {
   "cell_type": "markdown",
   "metadata": {},
   "source": [
    "## Optional (Not officially supported) local training\n",
    "\n",
    "Training the model requires a GPU. If you have one, you can simply `git clone https://github.com/Velythyl/yolov5.git -b dt-obj-det` and call `python3 train.py --img 416 --batch 16 --epochs 100 --data duckietown.yaml --weights yolov5s.pt`. For reference, on a gtx1080ti and a ryzen 3700x, training took us about 20 minutes."
   ]
  }
 ],
 "metadata": {
  "kernelspec": {
   "display_name": "Python 3",
   "language": "python",
   "name": "python3"
  },
  "language_info": {
   "codemirror_mode": {
    "name": "ipython",
    "version": 3
   },
   "file_extension": ".py",
   "mimetype": "text/x-python",
   "name": "python",
   "nbconvert_exporter": "python",
   "pygments_lexer": "ipython3",
   "version": "3.8.5"
  }
 },
 "nbformat": 4,
 "nbformat_minor": 4
}